{
 "cells": [
  {
   "cell_type": "code",
   "execution_count": 1,
   "metadata": {
    "collapsed": true,
    "deletable": true,
    "editable": true
   },
   "outputs": [],
   "source": [
    "try:\n",
    "    from path import Path\n",
    "except ImportError:\n",
    "    from pathlib import Path\n",
    "import os\n",
    "import numpy as np\n",
    "import matplotlib.pyplot as plt\n",
    "%matplotlib inline"
   ]
  },
  {
   "cell_type": "code",
   "execution_count": 2,
   "metadata": {
    "collapsed": true,
    "deletable": true,
    "editable": true
   },
   "outputs": [],
   "source": [
    "# Calculate convertion coefficient\n",
    "R = 8.314 # [J K-1 mol-1]\n",
    "temp = 298. # [K]\n",
    "P = 1e5 # [Pa = J m-3]\n",
    "Na = 6.022*1e23 # [mol-1]\n",
    "nden2mixr = (R*temp)/(P*Na)*1e6"
   ]
  },
  {
   "cell_type": "code",
   "execution_count": 3,
   "metadata": {
    "collapsed": true,
    "deletable": true,
    "editable": true
   },
   "outputs": [],
   "source": [
    "# Path to file\n",
    "path = Path(os.getcwd())\n",
    "fname = 'out.txt'\n",
    "# Read data\n",
    "with open(Path.joinpath(path / 'model' / fname)) as f:\n",
    "    raw_data = f.read().splitlines()\n",
    "# Tidy data\n",
    "raw_list = []\n",
    "for l in raw_data[1::]:\n",
    "    line = l.split()\n",
    "    raw_list.append(line)\n",
    "_TIME = []\n",
    "_O3 = []\n",
    "_NO = []\n",
    "_NO2 = []\n",
    "for i, n in enumerate(raw_list):\n",
    "    for t in n[::4]:\n",
    "        _TIME.append(t)\n",
    "    for o in n[1::4]:\n",
    "        _O3.append(o)\n",
    "    for no2 in n[2::4]:\n",
    "        _NO2.append(no2)\n",
    "    for no in n[3::4]:\n",
    "        _NO.append(no)\n",
    "TIME = np.asarray(list(map(float, _TIME)))\n",
    "O3 = np.asarray(list(map(float, _O3)))\n",
    "NO = np.asarray(list(map(float, _NO)))\n",
    "NO2 = np.asarray(list(map(float, _NO2)))\n",
    "NOX = NO + NO2"
   ]
  },
  {
   "cell_type": "code",
   "execution_count": 4,
   "metadata": {
    "collapsed": false,
    "deletable": true,
    "editable": true
   },
   "outputs": [
    {
     "data": {
      "image/png": "[encoded data removed]",
      "text/plain": [
       "<matplotlib.figure.Figure at 0x7fe8a803e6a0>"
      ]
     },
     "metadata": {},
     "output_type": "display_data"
    }
   ],
   "source": [
    "# Plot data\n",
    "fig, ax = plt.subplots(nrows=1, ncols=4, figsize=(15, 3), sharex=True)\n",
    "ax[0].plot(NO*nden2mixr*1e9)\n",
    "ax[1].plot(NO2*nden2mixr*1e9)\n",
    "ax[2].plot(NOX*nden2mixr*1e9)\n",
    "ax[3].plot(O3*nden2mixr*1e9)\n",
    "ax[0].set_xlim(-10, len(NOX))\n",
    "ax[2].set_ylim(0, 10)\n",
    "ax[0].set_title('NO')\n",
    "ax[1].set_title('NO2')\n",
    "ax[2].set_title('NOx')\n",
    "ax[3].set_title('O3')\n",
    "plt.ioff()"
   ]
  },
  {
   "cell_type": "code",
   "execution_count": null,
   "metadata": {
    "collapsed": false,
    "deletable": true,
    "editable": true
   },
   "outputs": [],
   "source": [
    "# Path to file\n",
    "path2 = Path('/local/mwe14avu/UEA/PhD/models/box/MCM/MCM_C1_C2_nox/model')\n",
    "fname2 = 'MCM_C1_C2_nox_5min.dat'\n",
    "# Read data\n",
    "with open(Path.joinpath(path2 / fname2)) as f:\n",
    "    raw_data2 = f.read().splitlines()\n",
    "# Tidy data\n",
    "raw_list2 = []\n",
    "for l in raw_data2[1::]:\n",
    "    line = l.split()\n",
    "    raw_list2.append(line)\n",
    "_TIME2 = []\n",
    "_O32 = []\n",
    "_NO2 = []\n",
    "_NO22 = []\n",
    "for i, n in enumerate(raw_list2):\n",
    "    for t in n[::4]:\n",
    "        _TIME2.append(t)\n",
    "    for o in n[1::4]:\n",
    "        _O32.append(o)\n",
    "    for no2 in n[2::4]:\n",
    "        _NO22.append(no2)\n",
    "    for no in n[3::4]:\n",
    "        _NO2.append(no)\n",
    "TIME2 = np.asarray(list(map(float, _TIME2)))\n",
    "O32 = np.asarray(list(map(float, _O32)))\n",
    "NO2 = np.asarray(list(map(float, _NO2)))\n",
    "NO22 = np.asarray(list(map(float, _NO22)))\n",
    "NOX2 = NO2 + NO22"
   ]
  },
  {
   "cell_type": "code",
   "execution_count": null,
   "metadata": {
    "collapsed": false,
    "deletable": true,
    "editable": true
   },
   "outputs": [],
   "source": [
    "# Plot data\n",
    "fig, ax = plt.subplots(nrows=1, ncols=4, figsize=(15, 3), sharex=True)\n",
    "ax[0].plot(NO2*nden2mixr*1e12)\n",
    "ax[1].plot(NO22*nden2mixr*1e12)\n",
    "ax[2].plot(NOX2*nden2mixr*1e12)\n",
    "ax[3].plot(O32*nden2mixr*1e9)\n",
    "ax[0].set_xlim(-10, len(NOX2))\n",
    "ax[2].set_ylim(0, 10)\n",
    "ax[0].set_title('NO')\n",
    "ax[1].set_title('NO2')\n",
    "ax[2].set_title('NOx')\n",
    "ax[3].set_title('O3')\n",
    "plt.ioff()"
   ]
  },
  {
   "cell_type": "code",
   "execution_count": null,
   "metadata": {
    "collapsed": false,
    "deletable": true,
    "editable": true,
    "scrolled": true
   },
   "outputs": [],
   "source": [
    "np.all(NOX2*nden2mixr*1e12 > 1)"
   ]
  },
  {
   "cell_type": "code",
   "execution_count": null,
   "metadata": {
    "collapsed": false,
    "deletable": true,
    "editable": true
   },
   "outputs": [],
   "source": [
    "max(1 - NOX2*nden2mixr*1e12)*1e3"
   ]
  },
  {
   "cell_type": "code",
   "execution_count": null,
   "metadata": {
    "collapsed": false,
    "deletable": true,
    "editable": true
   },
   "outputs": [],
   "source": [
    "# Path to file\n",
    "path3 = Path('/local/mwe14avu/UEA/PhD/models/box/MCM/MCM_C1_C2_nudge/model')\n",
    "fname3 = 'MCM_C1_C2_nox.dat'\n",
    "# Read data\n",
    "with open(Path.joinpath(path3, fname3)) as f3:\n",
    "    raw_data3 = f3.read().splitlines()\n",
    "# Tidy data\n",
    "raw_list3 = []\n",
    "for l in raw_data3[1::]:\n",
    "    line = l.split()\n",
    "    raw_list3.append(line)\n",
    "_TIME3 = []\n",
    "_O33 = []\n",
    "_NO3 = []\n",
    "_NO23 = []\n",
    "for i, n in enumerate(raw_list3):\n",
    "    for t in n[::4]:\n",
    "        _TIME3.append(t)\n",
    "    for o in n[1::4]:\n",
    "        _O33.append(o)\n",
    "    for no2 in n[2::4]:\n",
    "        _NO23.append(no2)\n",
    "    for no in n[3::4]:\n",
    "        _NO3.append(no)\n",
    "TIME3 = np.asarray(list(map(float, _TIME3)))\n",
    "O33 = np.asarray(list(map(float, _O33)))\n",
    "NO3 = np.asarray(list(map(float, _NO3)))\n",
    "NO23 = np.asarray(list(map(float, _NO23)))\n",
    "NOX3 = NO3 + NO23"
   ]
  },
  {
   "cell_type": "code",
   "execution_count": null,
   "metadata": {
    "collapsed": false,
    "deletable": true,
    "editable": true
   },
   "outputs": [],
   "source": [
    "# Plot data\n",
    "fig, ax = plt.subplots(nrows=1, ncols=4, figsize=(15, 3), sharex=True)\n",
    "ax[0].plot(NO3*nden2mixr*1e12)\n",
    "ax[1].plot(NO23*nden2mixr*1e12)\n",
    "ax[2].plot(NOX3*nden2mixr*1e12)\n",
    "ax[3].plot(O33*nden2mixr*1e9)\n",
    "ax[0].set_xlim(-10, len(NOX3))\n",
    "# ax[2].set_ylim(0, 10)\n",
    "ax[0].set_title('NO')\n",
    "ax[1].set_title('NO2')\n",
    "ax[2].set_title('NOx')\n",
    "ax[3].set_title('O3')\n",
    "plt.ioff()"
   ]
  },
  {
   "cell_type": "code",
   "execution_count": null,
   "metadata": {
    "collapsed": false,
    "deletable": true,
    "editable": true
   },
   "outputs": [],
   "source": [
    "NOX3[0:500]*nden2mixr*1e12"
   ]
  },
  {
   "cell_type": "code",
   "execution_count": null,
   "metadata": {
    "collapsed": true,
    "deletable": true,
    "editable": true
   },
   "outputs": [],
   "source": []
  }
 ],
 "metadata": {
  "anaconda-cloud": {},
  "kernelspec": {
   "display_name": "Python [conda root]",
   "language": "python",
   "name": "conda-root-py"
  },
  "language_info": {
   "codemirror_mode": {
    "name": "ipython",
    "version": 3
   },
   "file_extension": ".py",
   "mimetype": "text/x-python",
   "name": "python",
   "nbconvert_exporter": "python",
   "pygments_lexer": "ipython3",
   "version": "3.5.3"
  }
 },
 "nbformat": 4,
 "nbformat_minor": 2
}
