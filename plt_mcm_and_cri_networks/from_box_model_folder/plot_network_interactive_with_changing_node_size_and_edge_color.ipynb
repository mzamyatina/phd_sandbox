{
 "cells": [
  {
   "cell_type": "code",
   "execution_count": null,
   "metadata": {
    "collapsed": false,
    "deletable": true,
    "editable": true
   },
   "outputs": [],
   "source": [
    "import os\n",
    "import re\n",
    "import json\n",
    "import numpy as np\n",
    "import xarray as xr\n",
    "import collections\n",
    "import networkx as nx\n",
    "import matplotlib\n",
    "import matplotlib.cm as cm\n",
    "import matplotlib.pyplot as plt\n",
    "from ipywidgets import interact\n",
    "%matplotlib inline"
   ]
  },
  {
   "cell_type": "code",
   "execution_count": null,
   "metadata": {
    "collapsed": true,
    "deletable": true,
    "editable": true
   },
   "outputs": [],
   "source": [
    "# Choose chemical mechanism\n",
    "model_name = 'MCM_C1_C2_ss'\n",
    "exp_name = 'init'"
   ]
  },
  {
   "cell_type": "code",
   "execution_count": null,
   "metadata": {
    "collapsed": false,
    "deletable": true,
    "editable": true
   },
   "outputs": [],
   "source": [
    "# Load reaction descriptions\n",
    "eqs_json_path = os.path.join(os.path.split(os.getcwd())[0], 'MCM', model_name, 'data', model_name, 'eqnjson')\n",
    "with open(os.path.join(eqs_json_path, model_name+'.json'), 'r') as f:\n",
    "    all_mcm_eqs = json.load(f)\n",
    "# Read time series and flux data\n",
    "ts = xr.open_dataset(os.path.join(os.path.split(os.getcwd())[0], 'processed', model_name+'_'+exp_name+'.nc'))\n",
    "for var in ts.data_vars:\n",
    "    ts[var].values[ts[var].values < 0] = 0. # why negative values are there?\n",
    "fl = xr.open_dataset(os.path.join(os.path.split(os.getcwd())[0], 'processed', 'flux', 'flux_'+model_name+'_'+exp_name+'.nc'))\n",
    "for var in fl.data_vars:\n",
    "    fl[var].values[fl[var].values < 0] = 0. # why negative values are there?"
   ]
  },
  {
   "cell_type": "code",
   "execution_count": null,
   "metadata": {
    "collapsed": false,
    "deletable": true,
    "editable": true
   },
   "outputs": [],
   "source": [
    "# Convert equation's info to nodes, edges and edge labels needed for networkx\n",
    "nodes = ['N2'] # nodes\n",
    "links = [] # edges\n",
    "link_labels = collections.OrderedDict() # edge labels\n",
    "flux_labels = collections.OrderedDict()\n",
    "major_reactants = ['CL', 'H2', 'HO2', 'NO', 'NO2', 'NO3', 'OH', 'SO2', 'SO3'] # 'arrows', no nodes created\n",
    "for eq in all_mcm_eqs:\n",
    "    if len(eq['reac']) == 1:\n",
    "        if 'J' in eq['coef'] and len(eq['prod']) == 1:\n",
    "            flux_label = eq['reac'][0]+'+hv='+eq['prod'][0]\n",
    "            link = (eq['reac'][0], eq['prod'][0])\n",
    "            if flux_label in fl.data_vars:\n",
    "                links.append(link)\n",
    "                link_labels[link] = 'hv'\n",
    "                flux_labels.setdefault(flux_label, []).append(link)\n",
    "        elif 'J' in eq['coef'] and len(eq['prod']) != 1:\n",
    "            flux_label = eq['reac'][0]+'+hv='+'+'.join(eq['prod'])\n",
    "            for prod in eq['prod']:\n",
    "                link = (eq['reac'][0], prod)\n",
    "                if flux_label in fl.data_vars:\n",
    "                    links.append(link)\n",
    "                    link_labels[link] = 'hv'\n",
    "                    flux_labels.setdefault(flux_label, []).append(link)\n",
    "        elif 'J' not in eq['coef'] and len(eq['prod']) == 1:\n",
    "            flux_label = eq['reac'][0]+'='+eq['prod'][0]\n",
    "            link = (eq['reac'][0], eq['prod'][0])\n",
    "            if flux_label in fl.data_vars:\n",
    "                links.append(link)\n",
    "                link_labels[link] = ''\n",
    "                flux_labels.setdefault(flux_label, []).append(link)\n",
    "        elif 'J' not in eq['coef'] and len(eq['prod']) != 1:\n",
    "            flux_label = eq['reac'][0]+'='+'+'.join(eq['prod'])\n",
    "            for prod in eq['prod']:\n",
    "                link = (eq['reac'][0], prod)\n",
    "                if flux_label in fl.data_vars:\n",
    "                    links.append(link)\n",
    "                    link_labels[link] = ''\n",
    "                    flux_labels.setdefault(flux_label, []).append(link)\n",
    "    else: # len(eq['reac']) == 2:\n",
    "        reac1, reac2 = eq['reac']\n",
    "        if reac1 in major_reactants and reac2 not in major_reactants:\n",
    "            reac1, reac2 = reac2, reac1\n",
    "        if len(eq['prod']) == 1:\n",
    "            flux_label = '+'.join(eq['reac'])+'='+eq['prod'][0]\n",
    "            for reac in eq['reac']:\n",
    "                link = (reac, eq['prod'][0])\n",
    "                if flux_label in fl.data_vars:\n",
    "                    links.append(link)\n",
    "                    link_labels[link] = reac2\n",
    "                    flux_labels.setdefault(flux_label, []).append(link)\n",
    "        elif len(eq['prod']) != 1:\n",
    "            flux_label = '+'.join(eq['reac'])+'='+'+'.join(eq['prod'])\n",
    "            for reac in eq['reac']:\n",
    "                for prod in eq['prod']:\n",
    "                    link = (reac, prod)\n",
    "                    if flux_label in fl.data_vars:\n",
    "                        links.append(link)\n",
    "                        link_labels[link] = reac2\n",
    "                        flux_labels.setdefault(flux_label, []).append(link)\n",
    "    for reac in eq['reac']:\n",
    "        if reac not in nodes:\n",
    "            nodes.append(reac)\n",
    "    for prod in eq['prod']:\n",
    "        if prod not in nodes:\n",
    "            nodes.append(prod)"
   ]
  },
  {
   "cell_type": "code",
   "execution_count": null,
   "metadata": {
    "collapsed": false,
    "deletable": true,
    "editable": true
   },
   "outputs": [],
   "source": [
    "# Find min and max number densities and fluxes\n",
    "ts_mins = []\n",
    "ts_maxs = []\n",
    "fl_mins = []\n",
    "fl_maxs = []\n",
    "for var in ts.data_vars:\n",
    "    ts_mins.append(ts[var].values.min())\n",
    "    ts_maxs.append(ts[var].values.max())\n",
    "for var in fl.data_vars:\n",
    "    fl_mins.append(fl[var].values.min())\n",
    "    fl_maxs.append(fl[var].values.max())\n",
    "ts_min = min(ts_mins)\n",
    "ts_max = max(ts_maxs)\n",
    "fl_min = min(fl_mins)\n",
    "fl_max = max(fl_maxs)"
   ]
  },
  {
   "cell_type": "code",
   "execution_count": null,
   "metadata": {
    "collapsed": true,
    "deletable": true,
    "editable": true
   },
   "outputs": [],
   "source": [
    "# Put sampled number densities into bins in order to show them by varying node size\n",
    "node_size_nden_bnds = np.logspace(ts_min, round(np.log10(ts_max)+1), 11, endpoint=True)-1 # 11 bounds\n",
    "node_size_nden_bins = np.array([*zip(node_size_nden_bnds[:-1], node_size_nden_bnds[1:])]) # 10 bins\n",
    "node_size_plot_bins = collections.OrderedDict()\n",
    "for var in ts.data_vars:\n",
    "    idx = np.empty((len(ts.xrun), len(ts.yrun), len(ts.time)), dtype=int)\n",
    "    for i, (bottom, top) in enumerate(node_size_nden_bins):\n",
    "        inds = (bottom <= ts[var].values) & (ts[var].values < top)\n",
    "        idx[inds] = i\n",
    "    node_size_plot_bins[var] = idx"
   ]
  },
  {
   "cell_type": "code",
   "execution_count": null,
   "metadata": {
    "collapsed": false,
    "deletable": true,
    "editable": true
   },
   "outputs": [],
   "source": [
    "# Put sampled fluxes into bins in order to show them by varying edge width\n",
    "edge_wdth_flux_bnds = np.logspace(fl_min, round(np.log10(fl_max)+1), 11, endpoint=True)-1 # 11 bounds\n",
    "edge_wdth_flux_bins = np.array([*zip(edge_wdth_flux_bnds[:-1], edge_wdth_flux_bnds[1:])]) # 10 bins \n",
    "edge_wdth_plot_bins = collections.OrderedDict()\n",
    "for var in fl.data_vars:\n",
    "    idx = np.empty((len(fl.xrun), len(fl.yrun), len(fl.time)), dtype=int)\n",
    "    for i, (bottom, top) in enumerate(edge_wdth_flux_bins):\n",
    "        inds = (bottom <= fl[var].values) & (fl[var].values < top)\n",
    "        idx[inds] = i\n",
    "    edge_wdth_plot_bins[var] = idx"
   ]
  },
  {
   "cell_type": "code",
   "execution_count": null,
   "metadata": {
    "collapsed": false,
    "deletable": true,
    "editable": true
   },
   "outputs": [],
   "source": [
    "# Create network layout (don't run this cell again if want to preserve positions of nodes and edges)\n",
    "scheme = nx.MultiDiGraph()\n",
    "scheme.add_edges_from(links)\n",
    "scheme.add_nodes_from(nodes)\n",
    "pos = nx.nx_pydot.graphviz_layout(scheme)"
   ]
  },
  {
   "cell_type": "code",
   "execution_count": null,
   "metadata": {
    "collapsed": false,
    "deletable": true,
    "editable": true
   },
   "outputs": [],
   "source": [
    "# Sort links in the order that network creates edges\n",
    "links_sorted_as_edges = sorted(links, key=scheme.edges().index)\n",
    "# Combine info about link name with flux intensity through the reaction where this link comes from\n",
    "link_flux_info = []\n",
    "for name1, arr in edge_wdth_plot_bins.items():\n",
    "    for name2, link_list in flux_labels.items():\n",
    "        if name1 == name2:\n",
    "            for link in link_list:\n",
    "                link_flux_info.append((name1, link, arr))\n",
    "# Sort this info in the order that network creates edges\n",
    "link_flux_info_sorted_as_edges = sorted(link_flux_info, key=lambda i: links_sorted_as_edges.index(i[1]))"
   ]
  },
  {
   "cell_type": "code",
   "execution_count": null,
   "metadata": {
    "collapsed": true,
    "deletable": true,
    "editable": true
   },
   "outputs": [],
   "source": [
    "#---Draw a single network-------------------------------------------------------------------------------------------------------------#\n",
    "# Choose model run and hour\n",
    "x, y, t = 10, 10, 12\n",
    "# Create a list of node sizes\n",
    "node_sizes = []\n",
    "node_size_scaling_factor = 500\n",
    "node_sizes = [node_size_scaling_factor*node_size_plot_bins[key][x,y,t] for key in scheme.nodes()]\n",
    "# Create a list of edge colors\n",
    "edge_colors = []\n",
    "for i in link_flux_info_sorted_as_edges:\n",
    "    edge_colors.append(i[2][x,y,t])\n",
    "# Draw network\n",
    "fig, ax = plt.subplots(figsize=(15,15), facecolor='white')\n",
    "nx.draw_networkx_edges(scheme, pos, ax=ax, width=2, edge_color=edge_colors, edge_cmap=plt.cm.Blues, arrows=False)\n",
    "nx.draw_networkx_nodes(scheme, pos, ax=ax, node_size=node_sizes, node_color='grey', alpha=0.3)\n",
    "nx.draw_networkx_labels(scheme, pos, ax=ax, font_size=9)\n",
    "# nx.draw_networkx_edge_labels(scheme, pos, edge_labels=link_labels, font_size=7) # haven't corrected them yet\n",
    "_ = ax.axis('off')\n",
    "ax.set_xlim(-200, 200)\n",
    "ax.set_ylim(-200, 200)"
   ]
  },
  {
   "cell_type": "code",
   "execution_count": null,
   "metadata": {
    "collapsed": false,
    "deletable": true,
    "editable": true
   },
   "outputs": [],
   "source": [
    "#---Draw an interactive network-------------------------------------------------------------------------------------------------------#\n",
    "@interact(x=(0,21,1), y=(0,20,1), t=(0, 721, 1))\n",
    "def view_exp(x=0, y=0, t=0):\n",
    "    # Create a list of node sizes\n",
    "    node_sizes = []\n",
    "    node_size_scaling_factor = 500\n",
    "    node_sizes = [node_size_scaling_factor*node_size_plot_bins[key][x,y,t] for key in scheme.nodes()]\n",
    "    # Create a list of edge colors\n",
    "    edge_colors = []\n",
    "    for i in link_flux_info_sorted_as_edges:\n",
    "        edge_colors.append(i[2][x,y,t])\n",
    "    # Plot network\n",
    "    fig, ax = plt.subplots(figsize=(15,15), facecolor='white')\n",
    "    nx.draw_networkx_edges(scheme, pos, ax=ax, width=2, edge_color=edge_colors, edge_cmap=plt.cm.Blues, arrows=False)\n",
    "    nx.draw_networkx_nodes(scheme, pos, ax=ax, node_size=node_sizes, node_color='grey', alpha=0.3)\n",
    "    nx.draw_networkx_labels(scheme, pos, ax=ax, font_size=9)\n",
    "    # nx.draw_networkx_edge_labels(scheme, pos, edge_labels=link_labels, font_size=7) # haven't corrected them yet\n",
    "    _ = ax.axis('off')\n",
    "    ax.set_xlim(-300, 300)\n",
    "    ax.set_ylim(-300, 300)\n",
    "    ax.set_title(str(t), fontsize=20)\n",
    "    plt.show()"
   ]
  },
  {
   "cell_type": "code",
   "execution_count": null,
   "metadata": {
    "collapsed": false
   },
   "outputs": [],
   "source": [
    "#---Draw and save network-------------------------------------------------------------------------------------------------------------#\n",
    "pics_path = '/local/mwe14avu/UEA/PhD/results/plot_network/'\n",
    "xruns = [0]#, 10]\n",
    "yruns = [0]#, 10]\n",
    "times = np.arange(1, 2)\n",
    "for x in xruns:\n",
    "    for y in yruns:\n",
    "        for t in times:\n",
    "            # Create a list of node sizes\n",
    "            node_sizes = []\n",
    "            node_size_scaling_factor = 500\n",
    "            node_sizes = [node_size_scaling_factor*node_size_plot_bins[key][x,y,t] for key in scheme.nodes()]\n",
    "            # Create a list of edge colors\n",
    "            edge_colors = []\n",
    "            for i in link_flux_info_sorted_as_edges:\n",
    "                edge_colors.append(i[2][x,y,t])\n",
    "            # Plot network\n",
    "            fig, ax = plt.subplots(figsize=(7,7), facecolor='white')\n",
    "            nx.draw_networkx_edges(scheme, pos, ax=ax, width=2, edge_color=edge_colors, edge_cmap=plt.cm.Blues, arrows=False)\n",
    "            nx.draw_networkx_nodes(scheme, pos, ax=ax, node_size=node_sizes, node_color='grey', alpha=0.3)\n",
    "            nx.draw_networkx_labels(scheme, pos, ax=ax, font_size=9)\n",
    "            # nx.draw_networkx_edge_labels(scheme, pos, edge_labels=link_labels, font_size=7) # haven't corrected them yet\n",
    "            _ = ax.axis('off')\n",
    "            ax.set_xlim(-200, 200)\n",
    "            ax.set_ylim(-200, 200)\n",
    "            ax.set_title('x '+str(x)+'; y '+str(y)+'; hr '+str(t), fontsize=20)\n",
    "            fig.savefig(pics_path+'_'+str(t)+str(x)+str(y)+'.svg', format='svg', dpi=100, bbox_inches='tight')\n",
    "            plt.close()"
   ]
  }
 ],
 "metadata": {
  "anaconda-cloud": {},
  "kernelspec": {
   "display_name": "Python [conda root]",
   "language": "python",
   "name": "conda-root-py"
  },
  "language_info": {
   "codemirror_mode": {
    "name": "ipython",
    "version": 3
   },
   "file_extension": ".py",
   "mimetype": "text/x-python",
   "name": "python",
   "nbconvert_exporter": "python",
   "pygments_lexer": "ipython3",
   "version": "3.5.3"
  }
 },
 "nbformat": 4,
 "nbformat_minor": 0
}
