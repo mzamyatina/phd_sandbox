{
 "cells": [
  {
   "cell_type": "code",
   "execution_count": null,
   "metadata": {
    "collapsed": false,
    "deletable": true,
    "editable": true
   },
   "outputs": [],
   "source": [
    "import os\n",
    "import re\n",
    "import numpy as np\n",
    "import xarray as xr\n",
    "import itertools\n",
    "import networkx as nx\n",
    "import matplotlib.pyplot as plt\n",
    "%matplotlib inline"
   ]
  },
  {
   "cell_type": "code",
   "execution_count": null,
   "metadata": {
    "collapsed": true,
    "deletable": true,
    "editable": true
   },
   "outputs": [],
   "source": [
    "# Choose chemical mechanism\n",
    "model_name = 'MCM_C1_C2'\n",
    "exp_name = 'init'\n",
    "MCM_RHC1C5 = True\n",
    "CheT = False"
   ]
  },
  {
   "cell_type": "code",
   "execution_count": null,
   "metadata": {
    "collapsed": false,
    "deletable": true,
    "editable": true
   },
   "outputs": [],
   "source": [
    "# Read file with chemical equations (e.g., MCM subset [current setup])\n",
    "if MCM_RHC1C5:    \n",
    "    with open('./chemech/MCM_C1_C2.eqn', 'r') as f:\n",
    "        lines = f.read().splitlines()\n",
    "    # Read data\n",
    "    ts = xr.open_dataset(os.path.join(os.path.split(os.getcwd())[0], 'processed', model_name+'_'+exp_name+'.nc'))\n",
    "    fl = xr.open_dataset(os.path.join(os.path.split(os.getcwd())[0], 'processed', 'flux', 'flux_'+model_name+'_'+exp_name+'.nc'))\n",
    "if CheT:\n",
    "    with open('./chemech/diff_CheT_CheTMN_new_and_replaced_reactions.kpp', 'r') as f:\n",
    "        lines = f.read().splitlines()[1:]"
   ]
  },
  {
   "cell_type": "code",
   "execution_count": null,
   "metadata": {
    "collapsed": false,
    "deletable": true,
    "editable": true,
    "scrolled": true
   },
   "outputs": [],
   "source": [
    "# Extract reactants, products and reaction rate coefficients from equations\n",
    "eqs = []\n",
    "if MCM_RHC1C5:\n",
    "    for line in lines:\n",
    "        if not line.startswith('#') and not line.startswith('{{'):\n",
    "            subline = re.search(r'\\t\\s(.*)\\s:\\s\\t(.*)\\s\\t', line).group(1,2)\n",
    "            reac, prod = [re.findall(r'\\w+', s) for s in subline[0].split('=')] # split first tuple value\n",
    "            eqs.append(dict(reac=reac, prod=prod, coef=subline[1]))\n",
    "# if CheT:\n",
    "#     for line in lines:\n",
    "#         if not line.startswith('{'):\n",
    "#             subline = re.search(r'\\t(.*):\\t(.*);', line).group(1,2)\n",
    "#             reac, prod = [re.findall(r'[A-Za-z]+[\\w]*', s) for s in subline[0].split('=')]\n",
    "#             eqs.append(dict(reac=reac, prod=prod, coef=subline[1]))"
   ]
  },
  {
   "cell_type": "code",
   "execution_count": null,
   "metadata": {
    "collapsed": false,
    "deletable": true,
    "editable": true
   },
   "outputs": [],
   "source": [
    "# 'Convert' equations to nodes, edges and edge labels needed for constructing a network\n",
    "nodes = []\n",
    "links = [] # connections between reactants and products, edges for networkx\n",
    "link_labels = {} # 'arrow labels', edge labels for networkx\n",
    "if MCM_RHC1C5:\n",
    "    major_reactants = ['CL', 'HO2', 'NO', 'NO2', 'NO3', 'OH', 'SO2', 'SO3'] # 'arrows', no nodes created\n",
    "elif CheT:\n",
    "    major_reactants = ['CL', 'CO2', 'H2O', 'HO2', 'M', 'N2', 'NO', 'NO2', 'NO3', 'O2', 'OH', 'SO2', 'SO3']\n",
    "major_reactants_combos = list(itertools.product(major_reactants, repeat=2))\n",
    "for eq in eqs:\n",
    "    for prod in eq['prod']:\n",
    "        if prod not in major_reactants:\n",
    "            if len(eq['reac']) == 1 and eq['reac'][0] not in major_reactants: # photolysis\n",
    "                print(eq)\n",
    "                link = (eq['reac'][0], prod)\n",
    "                try:\n",
    "                    link_labels[link] +=',{}'.format('hv')\n",
    "                except KeyError:\n",
    "                    link_labels[link] = 'hv'\n",
    "                links.append(link)\n",
    "            elif len(eq['reac']) == 2:\n",
    "                reac1, reac2 = eq['reac']\n",
    "                if (reac1, reac2) not in major_reactants_combos: # skip reactions like NO + NO2 = products\n",
    "                    if reac1 in major_reactants:\n",
    "                        reac1, reac2 = reac2, reac1 # place reactant like CH3O2 to reac1, major reactant to reac2\n",
    "                    link = (reac1, prod)\n",
    "                    links.append(link)\n",
    "                    try:\n",
    "                        link_labels[link] +=',{}'.format(reac2)\n",
    "                    except KeyError:\n",
    "                        link_labels[link] = reac2 # use major reactant as a link label\n",
    "                if len(eq['prod']) == 1:\n",
    "                    if eq['prod'][0] not in nodes:\n",
    "                        nodes.append(eq['prod'][0]) # add nodes like N2O5 in NO2 + NO3 = N2O5\n",
    "        else:\n",
    "            if len(eq['reac']) == 1 and eq['reac'][0] not in major_reactants:\n",
    "                if eq['reac'][0] not in nodes:\n",
    "                    nodes.append(eq['reac'][0]) # add nodes like HONO in HONO = OH + NO\n",
    "            elif len(eq['reac']) == 2:\n",
    "                reac3, reac4 = eq['reac']\n",
    "                if (reac3, reac4) not in major_reactants_combos:\n",
    "                    if reac3 in major_reactants:\n",
    "                        reac3, reac4 = reac4, reac3\n",
    "                    if reac3 not in nodes:\n",
    "                        nodes.append(reac3) # add nodes like CO in OH + CO = HO2"
   ]
  },
  {
   "cell_type": "code",
   "execution_count": null,
   "metadata": {
    "collapsed": false,
    "deletable": true,
    "editable": true
   },
   "outputs": [],
   "source": [
    "# Orig\n",
    "# 'Convert' equations to nodes, edges and edge labels needed for constructing a network\n",
    "nodes = []\n",
    "links = [] # connections between reactants and products, edges for networkx\n",
    "link_labels = {} # 'arrow labels', edge labels for networkx\n",
    "if MCM_RHC1C5:\n",
    "    major_reactants = ['CL', 'HO2', 'NO', 'NO2', 'NO3', 'OH', 'SO2', 'SO3'] # 'arrows', no nodes created\n",
    "elif CheT:\n",
    "    major_reactants = ['CL', 'CO2', 'H2O', 'HO2', 'M', 'N2', 'NO', 'NO2', 'NO3', 'O2', 'OH', 'SO2', 'SO3']\n",
    "major_reactants_combos = list(itertools.product(major_reactants, repeat=2))\n",
    "for eq in eqs:\n",
    "    for prod in eq['prod']:\n",
    "        if prod not in major_reactants:\n",
    "            if len(eq['reac']) == 1 and eq['reac'][0] not in major_reactants: # photolysis\n",
    "                link = (eq['reac'][0], prod)\n",
    "                try:\n",
    "                    link_labels[link] +=',{}'.format('hv')\n",
    "                except KeyError:\n",
    "                    link_labels[link] = 'hv'\n",
    "                links.append(link)\n",
    "            elif len(eq['reac']) == 2:\n",
    "                reac1, reac2 = eq['reac']\n",
    "                if (reac1, reac2) not in major_reactants_combos: # skip reactions like NO + NO2 = products\n",
    "                    if reac1 in major_reactants:\n",
    "                        reac1, reac2 = reac2, reac1 # place reactant like CH3O2 to reac1, major reactant to reac2\n",
    "                    link = (reac1, prod)\n",
    "                    links.append(link)\n",
    "                    try:\n",
    "                        link_labels[link] +=',{}'.format(reac2)\n",
    "                    except KeyError:\n",
    "                        link_labels[link] = reac2 # use major reactant as a link label\n",
    "                if len(eq['prod']) == 1:\n",
    "                    if eq['prod'][0] not in nodes:\n",
    "                        nodes.append(eq['prod'][0]) # add nodes like N2O5 in NO2 + NO3 = N2O5\n",
    "        else:\n",
    "            if len(eq['reac']) == 1 and eq['reac'][0] not in major_reactants:\n",
    "                if eq['reac'][0] not in nodes:\n",
    "                    nodes.append(eq['reac'][0]) # add nodes like HONO in HONO = OH + NO\n",
    "            elif len(eq['reac']) == 2:\n",
    "                reac3, reac4 = eq['reac']\n",
    "                if (reac3, reac4) not in major_reactants_combos:\n",
    "                    if reac3 in major_reactants:\n",
    "                        reac3, reac4 = reac4, reac3\n",
    "                    if reac3 not in nodes:\n",
    "                        nodes.append(reac3) # add nodes like CO in OH + CO = HO2"
   ]
  },
  {
   "cell_type": "code",
   "execution_count": null,
   "metadata": {
    "collapsed": false,
    "deletable": true,
    "editable": true
   },
   "outputs": [],
   "source": [
    "# Create network layout\n",
    "scheme = nx.MultiDiGraph()\n",
    "scheme.add_edges_from(links)\n",
    "scheme.add_nodes_from(nodes)\n",
    "pos = nx.nx_pydot.graphviz_layout(scheme)"
   ]
  },
  {
   "cell_type": "code",
   "execution_count": null,
   "metadata": {
    "collapsed": false,
    "deletable": true,
    "editable": true
   },
   "outputs": [],
   "source": [
    "# Select species to highlight\n",
    "if MCM_RHC1C5:\n",
    "    selected_spcs = []\n",
    "# if MCM_RHC1C5:\n",
    "#     selected_spcs = ['CH3NO3', 'C2H5NO3', 'IC3H7NO3', 'NC3H7NO3', 'NC4H9NO3', 'SC4H9NO3', 'IC4H9NO3', 'TC4H9NO3', \n",
    "#                  'PEANO3', 'PEBNO3', 'PECNO3', 'IPEANO3', 'IPEBNO3', 'IPECNO3']\n",
    "if CheT:\n",
    "#     selected_spcs = []\n",
    "#     selected_spcs = ['MeONO2']\n",
    "#     selected_spcs = ['MeONO2', 'iPrONO2', 'nPrONO2', 'sBuONO2', 'nPeBCONO2', 'iPeBONO2', 'iPeCONO2']\n",
    "    selected_spcs = ['iPrONO2', 'nPrONO2', \n",
    "                     'MEK', 'nC4H10', 'sBuONO2', 'sBuOO', 'sBuOOH', \n",
    "                     'iC4H10', 'iBuOO', 'iBuOOH', 'tBuOO', 'tBuOOH', 'iPrCHO', 'iPrCO3', \n",
    "                     'nC5H12', 'nPeBOO', 'nPeCOO', 'nPeBCONO2', 'MPRK', 'DIEK', 'nPeBOOH', 'nPeCOOH', 'DIEKAOO',\n",
    "                     'DIEKAOOH', 'CO23C5', 'CARB11A', \n",
    "                     'iC5H12', 'iPeBOO', 'iPeCOO', 'iPeBONO2', 'iPeCONO2', 'iPeBOOH', 'iPeCOOH', 'MIPK']"
   ]
  },
  {
   "cell_type": "code",
   "execution_count": null,
   "metadata": {
    "collapsed": false,
    "deletable": true,
    "editable": true
   },
   "outputs": [],
   "source": [
    "# Filter first-order precursors and products of selected species\n",
    "selected_spcs_and_depends = []\n",
    "for n, m in scheme.edges():\n",
    "    if n in selected_spcs or m in selected_spcs:\n",
    "        selected_spcs_and_depends.append(n)\n",
    "        selected_spcs_and_depends.append(m)\n",
    "selected_spcs_and_depends = set(selected_spcs_and_depends)\n",
    "# Filter edge labels for production and destruction of selected species\n",
    "selected_spcs_labels = {k: v for k, v in link_labels.items() if any([i in selected_spcs for i in k])}\n",
    "# Create subgraph with selected species highlighted\n",
    "SG=scheme.subgraph(selected_spcs_and_depends)"
   ]
  },
  {
   "cell_type": "code",
   "execution_count": null,
   "metadata": {
    "collapsed": false,
    "deletable": true,
    "editable": true
   },
   "outputs": [],
   "source": [
    "# Draw main network\n",
    "for i in np.arange(20, 40, 10):\n",
    "    fig, ax = plt.subplots(figsize=(20,20), facecolor='white')\n",
    "    nx.draw_networkx_nodes(scheme, pos, ax=ax, node_size=i, node_color='grey', alpha=0.3)\n",
    "    nx.draw_networkx_labels(scheme, pos, ax=ax, font_size=9)\n",
    "    nx.draw_networkx_edges(scheme, pos, ax=ax, width=0.5, edge_color='grey')\n",
    "    nx.draw_networkx_edge_labels(scheme, pos, edge_labels=link_labels, font_size=7)\n",
    "    _ = ax.axis('off')\n",
    "    ax.set_xlim(-300, 350)\n",
    "    ax.set_ylim(-300, 350)\n",
    "    plt.title('CheT+MN: highlight new species and reactions from MN chemistry', fontsize=20) # CheT: highlight MN chemistry"
   ]
  },
  {
   "cell_type": "code",
   "execution_count": null,
   "metadata": {
    "collapsed": false,
    "deletable": true,
    "editable": true,
    "scrolled": true
   },
   "outputs": [],
   "source": [
    "# Orig\n",
    "# Draw main network\n",
    "fig, ax = plt.subplots(figsize=(20,20), facecolor='white')\n",
    "nx.draw_networkx_nodes(scheme, pos, ax=ax, node_size=30, node_color='grey', alpha=0.3)\n",
    "nx.draw_networkx_labels(scheme, pos, ax=ax, font_size=9)\n",
    "nx.draw_networkx_edges(scheme, pos, ax=ax, width=0.5, edge_color='grey')\n",
    "nx.draw_networkx_edge_labels(scheme, pos, edge_labels=link_labels, font_size=7)\n",
    "# Draw subnetwork on top of the main network\n",
    "nx.draw_networkx_nodes(SG, pos, ax=ax, node_size=30, node_color='r', alpha=0.3) # r\n",
    "nx.draw_networkx_labels(SG, pos, ax=ax, font_size=9, font_color='r') # k\n",
    "# nx.draw_networkx_edges(SG, pos, ax=ax, width=1.0, edge_color='r') # r\n",
    "# nx.draw_networkx_edge_labels(SG, pos, edge_labels=selected_spcs_labels, font_size=7)\n",
    "_ = ax.axis('off')\n",
    "ax.set_xlim(-300, 350)\n",
    "ax.set_ylim(-300, 350)\n",
    "plt.title('CheT+MN: highlight new species and reactions from MN chemistry', fontsize=20) # CheT: highlight MN chemistry"
   ]
  },
  {
   "cell_type": "code",
   "execution_count": null,
   "metadata": {
    "collapsed": false,
    "deletable": true,
    "editable": true,
    "scrolled": true
   },
   "outputs": [],
   "source": [
    "# Save network\n",
    "if MCM_RHC1C5:\n",
    "    fig.savefig('/local/mwe14avu/UEA/PhD/results/plot_network/MCM_RHC1C5_allRONO2marked.svg', format='svg', dpi=100, bbox_inches='tight')\n",
    "if CheT:\n",
    "    fig.savefig('/local/mwe14avu/UEA/PhD/results/plot_network/CheT_smth.svg', format='svg', dpi=100, bbox_inches='tight')"
   ]
  },
  {
   "cell_type": "code",
   "execution_count": null,
   "metadata": {
    "collapsed": true,
    "deletable": true,
    "editable": true
   },
   "outputs": [],
   "source": [
    "# TODO: find a way to highlight list of nodes and endges without constructing subnetwork"
   ]
  }
 ],
 "metadata": {
  "anaconda-cloud": {},
  "kernelspec": {
   "display_name": "Python [conda root]",
   "language": "python",
   "name": "conda-root-py"
  },
  "language_info": {
   "codemirror_mode": {
    "name": "ipython",
    "version": 3
   },
   "file_extension": ".py",
   "mimetype": "text/x-python",
   "name": "python",
   "nbconvert_exporter": "python",
   "pygments_lexer": "ipython3",
   "version": "3.5.3"
  }
 },
 "nbformat": 4,
 "nbformat_minor": 0
}
