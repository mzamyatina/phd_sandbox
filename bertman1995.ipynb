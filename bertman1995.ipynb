{
 "cells": [
  {
   "cell_type": "markdown",
   "metadata": {},
   "source": [
    "#### Evaluation of the difference between the original solution of equation (11) from Bertman et al. (1995), Reeves's and mine"
   ]
  },
  {
   "cell_type": "code",
   "execution_count": null,
   "metadata": {
    "collapsed": true
   },
   "outputs": [],
   "source": [
    "import numpy as np\n",
    "import matplotlib.pyplot as plt\n",
    "import matplotlib as mpl\n",
    "%matplotlib inline"
   ]
  },
  {
   "cell_type": "code",
   "execution_count": null,
   "metadata": {
    "collapsed": true
   },
   "outputs": [],
   "source": [
    "OH = 1e6"
   ]
  },
  {
   "cell_type": "code",
   "execution_count": null,
   "metadata": {
    "collapsed": false
   },
   "outputs": [],
   "source": [
    "# All values are taken from Bertman et al. (1995)\n",
    "nitrates = ['ethyl', 'n-propyl', '2-propyl', '2-butyl', '2-pentyl', '3-pentyl']\n",
    "k1 = np.array([0.268, 1.15, 1.15, 2.54, 3.94, 3.94])\n",
    "kA = k1*1e-12*OH\n",
    "j7 = np.array([0.62, 1.2, 1.2, 1.1, 1.2, 1.2])\n",
    "k8 = np.array([0.49, 0.62, 0.41, 0.92, 1.85, 1.12])\n",
    "kB = j7*1e-6 + k8*1e-12*OH\n",
    "alpha1 = np.array([1.00, 0.30, 0.70, 0.86, 0.55, 0.35])\n",
    "alpha4 = np.array([0.014, 0.020, 0.042, 0.09, 0.13, 0.13])\n",
    "beta = alpha1*alpha4"
   ]
  },
  {
   "cell_type": "code",
   "execution_count": null,
   "metadata": {
    "collapsed": true
   },
   "outputs": [],
   "source": [
    "# All values are taken from excel spreadsheet provided by Reeves C.E.\n",
    "k1x = np.array([0.25, 1.09, 1.09, 2.36, 3.80, 3.80])\n",
    "kAx = k1x*1e-12*OH\n",
    "j7x = np.array([0.73, 0.77, 1.10, 0.91, 1.20, 1.20])\n",
    "k8x = np.array([0.18, 0.58, 0.29, 0.86, 1.00, 1.70])\n",
    "kBx = j7x*1e-6 + k8x*1e-12*OH\n",
    "alpha1x = np.array([1.000, 0.272, 0.727, 0.855, 0.568, 0.349])\n",
    "alpha4x = np.array([0.014, 0.020, 0.042, 0.084, 0.106, 0.126])\n",
    "betax = alpha1x*alpha4x"
   ]
  },
  {
   "cell_type": "code",
   "execution_count": null,
   "metadata": {
    "collapsed": false
   },
   "outputs": [],
   "source": [
    "k1, k1x # close"
   ]
  },
  {
   "cell_type": "code",
   "execution_count": null,
   "metadata": {
    "collapsed": false
   },
   "outputs": [],
   "source": [
    "kA, kAx # close"
   ]
  },
  {
   "cell_type": "code",
   "execution_count": null,
   "metadata": {
    "collapsed": false
   },
   "outputs": [],
   "source": [
    "j7, j7x  # close"
   ]
  },
  {
   "cell_type": "code",
   "execution_count": null,
   "metadata": {
    "collapsed": false
   },
   "outputs": [],
   "source": [
    "k8, k8x # 2-pentane: Bertman = x1.85 Reeves"
   ]
  },
  {
   "cell_type": "code",
   "execution_count": null,
   "metadata": {
    "collapsed": false
   },
   "outputs": [],
   "source": [
    "kB, kBx # # 2-pentane: Bertman = x1.38 Reeves"
   ]
  },
  {
   "cell_type": "code",
   "execution_count": null,
   "metadata": {
    "collapsed": false
   },
   "outputs": [],
   "source": [
    "alpha1, alpha1x"
   ]
  },
  {
   "cell_type": "code",
   "execution_count": null,
   "metadata": {
    "collapsed": false
   },
   "outputs": [],
   "source": [
    "alpha4, alpha4x"
   ]
  },
  {
   "cell_type": "code",
   "execution_count": null,
   "metadata": {
    "collapsed": false
   },
   "outputs": [],
   "source": [
    "beta, betax"
   ]
  },
  {
   "cell_type": "code",
   "execution_count": null,
   "metadata": {
    "collapsed": false
   },
   "outputs": [],
   "source": [
    "t = 3600*24*15\n",
    "YX_bert = []\n",
    "YX_reev = []\n",
    "YX_this = []\n",
    "for i in nitrates:\n",
    "    YX_bert = (beta*kA)/(kB - kA)*(1-np.exp((kA - kB)*t))\n",
    "    YX_reev = (betax*kAx)/(kBx - kAx)*(1-np.exp((kAx - kBx)*t))\n",
    "    YX_this = (beta*kA)/(kB - beta*kA)*(1-np.exp((beta*kA - kB)*t))\n",
    "print(YX_bert)\n",
    "print(YX_reev)\n",
    "print(YX_this)"
   ]
  },
  {
   "cell_type": "code",
   "execution_count": null,
   "metadata": {
    "collapsed": false
   },
   "outputs": [],
   "source": [
    "plt.figure(figsize=(8, 5), facecolor='white')\n",
    "ax1, = plt.plot(YX_bert, linestyle='None', marker='D', color='black', markersize=10, label='Bertman')\n",
    "ax2, = plt.plot(YX_reev, linestyle='None', marker='D', color='blue', markersize=10, label='Reeves')\n",
    "ax3, = plt.plot(YX_this, linestyle='None', marker='D', color='red', markersize=10, label='this work')\n",
    "plt.margins(0.05)\n",
    "plt.title('after '+str(t/(3600*24))+' days')\n",
    "plt.ylabel('[RONO2]/[RH]', fontsize=14)\n",
    "plt.ylim(-0.2, 2.2)\n",
    "plt.xticks(range(6), nitrates, rotation=0, fontsize=14)\n",
    "plt.legend(handles=[ax1, ax2, ax3], numpoints=1, loc='upper right', bbox_to_anchor=(1.3, 1.), fontsize=14)"
   ]
  },
  {
   "cell_type": "code",
   "execution_count": null,
   "metadata": {
    "collapsed": false
   },
   "outputs": [],
   "source": [
    "# timeframe = np.linspace(3600, 3600*24*20, 10)\n",
    "# timeframe\n",
    "# for it in timeframe:"
   ]
  }
 ],
 "metadata": {
  "anaconda-cloud": {},
  "kernelspec": {
   "display_name": "Python [conda root]",
   "language": "python",
   "name": "conda-root-py"
  },
  "language_info": {
   "codemirror_mode": {
    "name": "ipython",
    "version": 3
   },
   "file_extension": ".py",
   "mimetype": "text/x-python",
   "name": "python",
   "nbconvert_exporter": "python",
   "pygments_lexer": "ipython3",
   "version": "3.5.2"
  }
 },
 "nbformat": 4,
 "nbformat_minor": 0
}
