{
 "cells": [
  {
   "cell_type": "code",
   "execution_count": null,
   "metadata": {
    "collapsed": true
   },
   "outputs": [],
   "source": [
    "import os\n",
    "import netCDF4\n",
    "from netCDF4 import Dataset\n",
    "import numpy as np\n",
    "import matplotlib.pyplot as plt\n",
    "import cartopy.crs as ccrs"
   ]
  },
  {
   "cell_type": "code",
   "execution_count": null,
   "metadata": {
    "collapsed": true
   },
   "outputs": [],
   "source": [
    "%matplotlib inline"
   ]
  },
  {
   "cell_type": "code",
   "execution_count": null,
   "metadata": {
    "collapsed": true
   },
   "outputs": [],
   "source": [
    "path_accmip = '/local/mwe14avu/UEA/PhD/models/external_data/ACCMIP_emissions'"
   ]
  },
  {
   "cell_type": "code",
   "execution_count": null,
   "metadata": {
    "collapsed": true
   },
   "outputs": [],
   "source": [
    "_emis_nox = Dataset(os.path.join(path_accmip,'ACCMIP_biomassBurning_NOx_1900-2000_77674.nc'))\n",
    "_emis_eth = Dataset(os.path.join(path_accmip,'ACCMIP_biomassBurning_ethane_1900-2000_77674.nc'))\n",
    "_emis_pro = Dataset(os.path.join(path_accmip,'ACCMIP_biomassBurning_propane_1900-2000_77674.nc'))\n",
    "_emis_but = Dataset(os.path.join(path_accmip,'ACCMIP_biomassBurning_butanes_1900-2000_77674.nc'))\n",
    "_emis_pen = Dataset(os.path.join(path_accmip,'ACCMIP_biomassBurning_pentanes_1900-2000_77674.nc'))\n",
    "_emis_iso = Dataset(os.path.join(path_accmip,'ACCMIP_biomassBurning_isoprene_1900-2000_2945.nc'))"
   ]
  },
  {
   "cell_type": "code",
   "execution_count": null,
   "metadata": {
    "collapsed": false
   },
   "outputs": [],
   "source": [
    "lons = _emis_but.variables['lon'][:]\n",
    "lats = _emis_but.variables['lat'][:]\n",
    "time = _emis_but.variables['date'][:] # 11 decades with monthly resolution, 1900-2000\n",
    "emis_nox = _emis_nox.variables['ACCMIP'][:]\n",
    "emis_eth = _emis_eth.variables['ACCMIP'][:]\n",
    "emis_pro = _emis_pro.variables['ACCMIP'][:]\n",
    "emis_but = _emis_but.variables['ACCMIP'][:]\n",
    "emis_pen = _emis_pen.variables['ACCMIP'][:]\n",
    "emis_iso = _emis_iso.variables['ACCMIP'][:]\n",
    "_emis_nox.close()\n",
    "_emis_eth.close()\n",
    "_emis_pro.close()\n",
    "_emis_but.close()\n",
    "_emis_pen.close()\n",
    "_emis_iso.close()"
   ]
  },
  {
   "cell_type": "code",
   "execution_count": null,
   "metadata": {
    "collapsed": false
   },
   "outputs": [],
   "source": [
    "# Year 2000 means\n",
    "print('ACCMIP global annual mean biomass burning emission fluxes [kg m-2 s-1] for year 2000',\n",
    "      'NOx: {_a:.2e}'.format(_a=emis_nox[-12::, ...].mean()),\n",
    "      'ethane: {_b:.2e}'.format(_b=emis_eth[-12::, ...].mean()),\n",
    "      'propane: {_c:.2e}'.format(_c=emis_pro[-12::, ...].mean()),\n",
    "      'butane: {_d:.2e}'.format(_d=emis_but[-12::, ...].mean()), \n",
    "      'pentane: {_e:.2e}'.format(_e=emis_pen[-12::, ...].mean()), \n",
    "      'isoprene: {_e:.2e}'.format(_e=emis_iso[-12::, ...].mean()), sep='\\n')"
   ]
  },
  {
   "cell_type": "code",
   "execution_count": null,
   "metadata": {
    "collapsed": false
   },
   "outputs": [],
   "source": [
    "# Calculate mass flow rates in Tg year-1\n",
    "earth_surf_area = 510072000*1e6 # [m2]\n",
    "sec_in_year = 365*24*60*60\n",
    "emis_nox_in_Tg_per_year2000 = emis_nox[-12::,...].mean()*earth_surf_area*sec_in_year*1e-9\n",
    "emis_eth_in_Tg_per_year2000 = emis_eth[-12::,...].mean()*earth_surf_area*sec_in_year*1e-9\n",
    "emis_pro_in_Tg_per_year2000 = emis_pro[-12::,...].mean()*earth_surf_area*sec_in_year*1e-9\n",
    "emis_but_in_Tg_per_year2000 = emis_but[-12::,...].mean()*earth_surf_area*sec_in_year*1e-9\n",
    "emis_pen_in_Tg_per_year2000 = emis_pen[-12::,...].mean()*earth_surf_area*sec_in_year*1e-9\n",
    "emis_iso_in_Tg_per_year2000 = emis_iso[-12::,...].mean()*earth_surf_area*sec_in_year*1e-9\n",
    "print('ACCMIP global annual mean tendency of biomass burning emissions [Tg year-1] for year 2000',\n",
    "      'NOx: {_a:1.2f}'.format(_a=emis_nox_in_Tg_per_year2000),\n",
    "      'ethane: {_b:1.2f}'.format(_b=emis_eth_in_Tg_per_year2000),\n",
    "      'propane: {_c:1.2f}'.format(_c=emis_pro_in_Tg_per_year2000),\n",
    "      'butane: {_d:1.2f}'.format(_d=emis_but_in_Tg_per_year2000), \n",
    "      'pentane: {_e:1.2f}'.format(_e=emis_pen_in_Tg_per_year2000), \n",
    "      'isoprene: {_e:1.2f}'.format(_e=emis_iso_in_Tg_per_year2000), sep='\\n')"
   ]
  },
  {
   "cell_type": "code",
   "execution_count": null,
   "metadata": {
    "collapsed": false
   },
   "outputs": [],
   "source": [
    "# molar_mass = [30.0, 30.0, 44.0, 57.8, 72.0, 68.12] # [g mol-1]\n",
    "emis_VOC_in_TgC_per_year2000 = 1e3*(emis_eth[-12::,...].mean()*2*12.011/30.0 + \n",
    "                                    emis_pro[-12::,...].mean()*3*12.011/44.0 + \n",
    "                                    emis_but[-12::,...].mean()*4*12.011/57.8 + \n",
    "                                    emis_pen[-12::,...].mean()*5*12.011/72.0 +\n",
    "                                    emis_iso[-12::,...].mean()*5*12.011/68.12)*earth_surf_area*sec_in_year*1e-12\n",
    "emis_NOx_in_TgNOx_per_year2000 = 1e3*emis_nox[-12::,...].mean()*earth_surf_area*sec_in_year*1e-12\n",
    "emis_NOx_in_TgN_per_year2000 = 1e3*emis_nox[-1,...].mean()*14.007/30.0*earth_surf_area*sec_in_year*1e-12\n",
    "print('ACCMIP biomass burning NOx in TgN year-1, VOC in TgC year-1 for year 2000',\n",
    "      'NOx: {_f:1.2f}'.format(_f=emis_NOx_in_TgN_per_year2000),\n",
    "      'VOC: {_g:1.2f}'.format(_g=emis_VOC_in_TgC_per_year2000), sep='\\n')"
   ]
  },
  {
   "cell_type": "code",
   "execution_count": null,
   "metadata": {
    "collapsed": true
   },
   "outputs": [],
   "source": []
  }
 ],
 "metadata": {
  "anaconda-cloud": {},
  "kernelspec": {
   "display_name": "Python [conda root]",
   "language": "python",
   "name": "conda-root-py"
  },
  "language_info": {
   "codemirror_mode": {
    "name": "ipython",
    "version": 3
   },
   "file_extension": ".py",
   "mimetype": "text/x-python",
   "name": "python",
   "nbconvert_exporter": "python",
   "pygments_lexer": "ipython3",
   "version": "3.5.2"
  }
 },
 "nbformat": 4,
 "nbformat_minor": 1
}
