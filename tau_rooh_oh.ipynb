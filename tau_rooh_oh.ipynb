{
 "cells": [
  {
   "cell_type": "code",
   "execution_count": 1,
   "metadata": {},
   "outputs": [],
   "source": [
    "import numpy as np"
   ]
  },
  {
   "cell_type": "code",
   "execution_count": 2,
   "metadata": {},
   "outputs": [],
   "source": [
    "OH = 1e6\n",
    "TEMP = 298\n",
    "sec2days = 24*60*60"
   ]
  },
  {
   "cell_type": "code",
   "execution_count": 15,
   "metadata": {},
   "outputs": [
    {
     "name": "stdout",
     "output_type": "stream",
     "text": [
      "8.637368711995578\n",
      "64.30041152263375\n",
      "7.614522417153997\n",
      "7.614522417153997\n"
     ]
    }
   ],
   "source": [
    "j = 1.34e-06\n",
    "k_oh = 0.18*1e-12\n",
    "\n",
    "tau_j = 1/j\n",
    "tau_oh = 1/(k_oh*OH)\n",
    "\n",
    "print(tau_j/sec2days)\n",
    "print(tau_oh/sec2days)\n",
    "\n",
    "print((1/(j+k_oh*OH))/sec2days)\n",
    "\n",
    "print( ( 1/tau_j + 1/tau_oh )**(-1)  /sec2days )"
   ]
  },
  {
   "cell_type": "code",
   "execution_count": 3,
   "metadata": {},
   "outputs": [],
   "source": [
    "nBuOOH_OH = 1.24e-11 + 1.90e-12*np.exp(190/TEMP)\n",
    "sBuOOH_OH = 2.15e-11 + 1.90e-12*np.exp(190/TEMP)\n",
    "iBuOOH_OH = 1.24e-11 + 1.90e-12*np.exp(190/TEMP)\n",
    "tBuOOH_OH = 2.17e-12*np.exp(190/TEMP)\n",
    "nPeBOOH_OH = 2.30e-11 + 1.90e-12*np.exp(190/TEMP)\n",
    "nPeCOOH_OH = 2.73e-11\n",
    "iPeBOOH_OH = 2.29e-11 + 1.90e-12*np.exp(190/TEMP)\n",
    "iPeCOOH_OH = 5.25e-12"
   ]
  },
  {
   "cell_type": "code",
   "execution_count": 4,
   "metadata": {},
   "outputs": [],
   "source": [
    "tau_nBuOOH_OH = 1/(nBuOOH_OH*OH)/sec2days\n",
    "tau_sBuOOH_OH = 1/(sBuOOH_OH*OH)/sec2days\n",
    "tau_iBuOOH_OH = 1/(iBuOOH_OH*OH)/sec2days\n",
    "tau_tBuOOH_OH = 1/(tBuOOH_OH*OH)/sec2days\n",
    "tau_nPeBOOH_OH = 1/(nPeBOOH_OH*OH)/sec2days\n",
    "tau_nPeCOOH_OH = 1/(nPeCOOH_OH*OH)/sec2days\n",
    "tau_iPeBOOH_OH = 1/(iPeBOOH_OH*OH)/sec2days\n",
    "tau_iPeCOOH_OH = 1/(iPeCOOH_OH*OH)/sec2days"
   ]
  },
  {
   "cell_type": "code",
   "execution_count": 5,
   "metadata": {},
   "outputs": [
    {
     "name": "stdout",
     "output_type": "stream",
     "text": [
      "tau_nBuOOH_OH:  0.72\n",
      "tau_sBuOOH_OH:  0.46\n",
      "tau_iBuOOH_OH:  0.72\n",
      "tau_tBuOOH_OH:  2.82\n",
      "tau_nPeBOOH_OH:  0.44\n",
      "tau_nPeCOOH_OH:  0.42\n",
      "tau_iPeBOOH_OH:  0.44\n",
      "tau_iPeCOOH_OH:  2.20\n"
     ]
    }
   ],
   "source": [
    "print('tau_nBuOOH_OH: ', '{:1.2f}'.format(tau_nBuOOH_OH))\n",
    "print('tau_sBuOOH_OH: ', '{:1.2f}'.format(tau_sBuOOH_OH))\n",
    "print('tau_iBuOOH_OH: ', '{:1.2f}'.format(tau_iBuOOH_OH))\n",
    "print('tau_tBuOOH_OH: ', '{:1.2f}'.format(tau_tBuOOH_OH))\n",
    "print('tau_nPeBOOH_OH: ', '{:1.2f}'.format(tau_nPeBOOH_OH))\n",
    "print('tau_nPeCOOH_OH: ', '{:1.2f}'.format(tau_nPeCOOH_OH))\n",
    "print('tau_iPeBOOH_OH: ', '{:1.2f}'.format(tau_iPeBOOH_OH))\n",
    "print('tau_iPeCOOH_OH: ', '{:1.2f}'.format(tau_iPeCOOH_OH))"
   ]
  }
 ],
 "metadata": {
  "@deathbeds/jupyterlab-fonts": {
   "styles": {
    ":root": {
     "--jp-code-font-size": "12px"
    }
   }
  },
  "kernelspec": {
   "display_name": "Python [conda env:root] *",
   "language": "python",
   "name": "conda-root-py"
  },
  "language_info": {
   "codemirror_mode": {
    "name": "ipython",
    "version": 3
   },
   "file_extension": ".py",
   "mimetype": "text/x-python",
   "name": "python",
   "nbconvert_exporter": "python",
   "pygments_lexer": "ipython3",
   "version": "3.6.7"
  }
 },
 "nbformat": 4,
 "nbformat_minor": 2
}
